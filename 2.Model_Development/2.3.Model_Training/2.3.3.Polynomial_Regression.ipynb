{
 "cells": [
  {
   "cell_type": "markdown",
   "metadata": {},
   "source": [
    "[Home](../../README.md)\n",
    "\n",
    "### Model Training - Polynomial Regression\n",
    "\n",
    "Linear regression assumes the data has a linear pattern. If your data does not have a linear pattern you can consider a polynomial regression algorithm that provides a multi (poly) coefficient linear relationship between an independent variable and a dependent variable to predict the outcome of future events. We will now Train a Polynomial regression algorithm on the features you have engineered to see how closely we can predict the health outcomes for individuals."
   ]
  },
  {
   "cell_type": "markdown",
   "metadata": {},
   "source": [
    "#### Step 1\n",
    "\n",
    "Load the required dependencies:"
   ]
  },
  {
   "cell_type": "code",
   "execution_count": null,
   "metadata": {},
   "outputs": [],
   "source": [
    "# Import frameworks\n",
    "import numpy as np\n",
    "import pandas as pd\n",
    "import matplotlib.pyplot as plt\n",
    "plt.style.use('../../style_Matplotlib_charts.mplstyle')\n",
    "from sklearn.preprocessing import PolynomialFeatures\n",
    "from sklearn.linear_model import LinearRegression\n",
    "import pickle"
   ]
  },
  {
   "cell_type": "markdown",
   "metadata": {},
   "source": [
    "#### Step 2\n",
    "\n",
    "Store the data columns for Linear Regression."
   ]
  },
  {
   "cell_type": "code",
   "execution_count": null,
   "metadata": {},
   "outputs": [],
   "source": [
    "# Create a data frame from the csv file\n",
    "training_data = pd.read_csv('2.3.2.training_data.csv')\n",
    "\n",
    "x_name = ['BMI']\n",
    "y_name = 'Target'\n",
    "x = np.array(training_data[x_name])\n",
    "y = np.array(training_data[y_name])"
   ]
  },
  {
   "cell_type": "markdown",
   "metadata": {},
   "source": [
    "#### Step 3\n",
    "\n",
    "Plot the feature `x` and target `y` data on a graph using the column headings as the graph labels."
   ]
  },
  {
   "cell_type": "code",
   "execution_count": null,
   "metadata": {},
   "outputs": [],
   "source": [
    "if(len(x_name) == 1):\n",
    "    plt.scatter(x, y, marker='x', c='r')\n",
    "    plt.title(\"Diabetes Disease Progress\")\n",
    "    plt.ylabel(f'Training {y_name}')\n",
    "    plt.xlabel(f'Training {x_name[0]}')\n",
    "else:\n",
    "    fig,ax=plt.subplots(1,len(x_name),figsize=(12,3))\n",
    "    for i in range(len(ax)):\n",
    "        ax[i].scatter(x[:,i],y, label = 'target')\n",
    "        ax[i].set_xlabel(x_name[i])\n",
    "    ax[0].set_ylabel(\"Target\"); ax[0].legend();\n",
    "    fig.suptitle(\"Diabetes Disease Progress\")\n",
    "plt.show()"
   ]
  },
  {
   "cell_type": "markdown",
   "metadata": {},
   "source": [
    "#### Step 4\n",
    "\n",
    "Then save an instance of PolynomialFeatures, adjust the 'degree' parameter to suit your model and create the feature using the data in 'x'. (Note a degree of 1 is linear regression, each extra degree adds a coefficient).\n",
    "\n",
    "Then use the [Scikit-learn](https://scikit-learn.org/stable/) library to instantiate a Machine Learning model class and store it in the `my_model` variable as an object."
   ]
  },
  {
   "cell_type": "code",
   "execution_count": null,
   "metadata": {},
   "outputs": [],
   "source": [
    "poly = PolynomialFeatures(degree=5, include_bias=False)\n",
    "poly_features = poly.fit_transform(x)\n",
    "\n",
    "# Create the model\n",
    "my_model = LinearRegression()\n",
    "# Fit the model to the data\n",
    "my_model.fit(poly_features, y)"
   ]
  },
  {
   "cell_type": "markdown",
   "metadata": {},
   "source": [
    "#### Step 5\n",
    "\n",
    "Plot the features, targets and model (linear regression)."
   ]
  },
  {
   "cell_type": "code",
   "execution_count": null,
   "metadata": {},
   "outputs": [],
   "source": [
    "y_pred = my_model.predict(poly_features)\n",
    "if(len(x_name) == 1):\n",
    "    plt.scatter(x, y_pred)\n",
    "    plt.scatter(x, y, marker='x', c='r')\n",
    "    plt.title(\"Diabetes Disease Progress\")\n",
    "    plt.ylabel(f'Training {y_name}')\n",
    "    plt.xlabel(f'Training {x_name[0]}')\n",
    "else:\n",
    "    fig,ax=plt.subplots(1,len(x_name),figsize=(12,3),sharey=True)\n",
    "    for i in range(len(ax)):\n",
    "        ax[i].scatter(x[:,i],y, label = 'target')\n",
    "        ax[i].set_xlabel(x_name[i])\n",
    "        ax[i].scatter(x[:,i],y_pred,color=\"orange\", label = 'predict')\n",
    "    ax[0].set_ylabel(\"Target\"); ax[0].legend();\n",
    "    fig.suptitle(\"Diabetes Disease Progress\")\n",
    "plt.show()"
   ]
  },
  {
   "cell_type": "code",
   "execution_count": null,
   "metadata": {},
   "outputs": [],
   "source": [
    "# save the poly to disk\n",
    "poly_filename = 'my_saved_poly_v3.pkl'\n",
    "pickle.dump(poly, open('../2.4.Model_Testing_and_Validation/' + poly_filename, 'wb'))\n",
    "\n",
    "# save the model to disk\n",
    "model_filename = 'my_saved_model_v3.sav'\n",
    "pickle.dump(my_model, open('../2.4.Model_Testing_and_Validation/' + model_filename, 'wb'))"
   ]
  },
  {
   "cell_type": "markdown",
   "metadata": {},
   "source": [
    "#### Step 6. Explore polynomial degrees\n",
    "\n",
    "Students should now use the best features from Multiple Fetaure Linear Regression and apply some polynomial degrees to see if they can further improve the intuation of their model without overfitting."
   ]
  }
 ],
 "metadata": {
  "kernelspec": {
   "display_name": "Python 3",
   "language": "python",
   "name": "python3"
  },
  "language_info": {
   "codemirror_mode": {
    "name": "ipython",
    "version": 3
   },
   "file_extension": ".py",
   "mimetype": "text/x-python",
   "name": "python",
   "nbconvert_exporter": "python",
   "pygments_lexer": "ipython3",
   "version": "3.12.1"
  }
 },
 "nbformat": 4,
 "nbformat_minor": 2
}
